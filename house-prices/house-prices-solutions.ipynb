{
 "cells": [
  {
   "cell_type": "markdown",
   "metadata": {},
   "source": [
    "# Housing Prices"
   ]
  },
  {
   "cell_type": "code",
   "execution_count": 2,
   "metadata": {},
   "outputs": [],
   "source": [
    "import numpy as np\n",
    "import pandas as pd\n",
    "%matplotlib inline\n",
    "from matplotlib import pyplot as plt\n",
    "import seaborn as sns"
   ]
  },
  {
   "cell_type": "code",
   "execution_count": 3,
   "metadata": {},
   "outputs": [
    {
     "data": {
      "text/html": [
       "<div>\n",
       "<style scoped>\n",
       "    .dataframe tbody tr th:only-of-type {\n",
       "        vertical-align: middle;\n",
       "    }\n",
       "\n",
       "    .dataframe tbody tr th {\n",
       "        vertical-align: top;\n",
       "    }\n",
       "\n",
       "    .dataframe thead th {\n",
       "        text-align: right;\n",
       "    }\n",
       "</style>\n",
       "<table border=\"1\" class=\"dataframe\">\n",
       "  <thead>\n",
       "    <tr style=\"text-align: right;\">\n",
       "      <th></th>\n",
       "      <th>Order</th>\n",
       "      <th>PID</th>\n",
       "      <th>MS SubClass</th>\n",
       "      <th>MS Zoning</th>\n",
       "      <th>Lot Frontage</th>\n",
       "      <th>Lot Area</th>\n",
       "      <th>Street</th>\n",
       "      <th>Alley</th>\n",
       "      <th>Lot Shape</th>\n",
       "      <th>Land Contour</th>\n",
       "      <th>...</th>\n",
       "      <th>Pool Area</th>\n",
       "      <th>Pool QC</th>\n",
       "      <th>Fence</th>\n",
       "      <th>Misc Feature</th>\n",
       "      <th>Misc Val</th>\n",
       "      <th>Mo Sold</th>\n",
       "      <th>Yr Sold</th>\n",
       "      <th>Sale Type</th>\n",
       "      <th>Sale Condition</th>\n",
       "      <th>SalePrice</th>\n",
       "    </tr>\n",
       "  </thead>\n",
       "  <tbody>\n",
       "    <tr>\n",
       "      <th>0</th>\n",
       "      <td>484</td>\n",
       "      <td>528275070</td>\n",
       "      <td>60</td>\n",
       "      <td>RL</td>\n",
       "      <td>NaN</td>\n",
       "      <td>8795</td>\n",
       "      <td>Pave</td>\n",
       "      <td>NaN</td>\n",
       "      <td>IR1</td>\n",
       "      <td>Lvl</td>\n",
       "      <td>...</td>\n",
       "      <td>0</td>\n",
       "      <td>NaN</td>\n",
       "      <td>NaN</td>\n",
       "      <td>NaN</td>\n",
       "      <td>0</td>\n",
       "      <td>4</td>\n",
       "      <td>2009</td>\n",
       "      <td>WD</td>\n",
       "      <td>Normal</td>\n",
       "      <td>236000</td>\n",
       "    </tr>\n",
       "    <tr>\n",
       "      <th>1</th>\n",
       "      <td>2586</td>\n",
       "      <td>535305120</td>\n",
       "      <td>20</td>\n",
       "      <td>RL</td>\n",
       "      <td>75.0</td>\n",
       "      <td>10170</td>\n",
       "      <td>Pave</td>\n",
       "      <td>NaN</td>\n",
       "      <td>Reg</td>\n",
       "      <td>Lvl</td>\n",
       "      <td>...</td>\n",
       "      <td>0</td>\n",
       "      <td>NaN</td>\n",
       "      <td>NaN</td>\n",
       "      <td>NaN</td>\n",
       "      <td>0</td>\n",
       "      <td>6</td>\n",
       "      <td>2006</td>\n",
       "      <td>WD</td>\n",
       "      <td>Normal</td>\n",
       "      <td>155000</td>\n",
       "    </tr>\n",
       "    <tr>\n",
       "      <th>2</th>\n",
       "      <td>2289</td>\n",
       "      <td>923228250</td>\n",
       "      <td>160</td>\n",
       "      <td>RM</td>\n",
       "      <td>21.0</td>\n",
       "      <td>2001</td>\n",
       "      <td>Pave</td>\n",
       "      <td>NaN</td>\n",
       "      <td>Reg</td>\n",
       "      <td>Lvl</td>\n",
       "      <td>...</td>\n",
       "      <td>0</td>\n",
       "      <td>NaN</td>\n",
       "      <td>NaN</td>\n",
       "      <td>NaN</td>\n",
       "      <td>0</td>\n",
       "      <td>1</td>\n",
       "      <td>2007</td>\n",
       "      <td>WD</td>\n",
       "      <td>Normal</td>\n",
       "      <td>75000</td>\n",
       "    </tr>\n",
       "    <tr>\n",
       "      <th>3</th>\n",
       "      <td>142</td>\n",
       "      <td>535152150</td>\n",
       "      <td>20</td>\n",
       "      <td>RL</td>\n",
       "      <td>70.0</td>\n",
       "      <td>10552</td>\n",
       "      <td>Pave</td>\n",
       "      <td>NaN</td>\n",
       "      <td>IR1</td>\n",
       "      <td>Lvl</td>\n",
       "      <td>...</td>\n",
       "      <td>0</td>\n",
       "      <td>NaN</td>\n",
       "      <td>NaN</td>\n",
       "      <td>NaN</td>\n",
       "      <td>0</td>\n",
       "      <td>4</td>\n",
       "      <td>2010</td>\n",
       "      <td>WD</td>\n",
       "      <td>Normal</td>\n",
       "      <td>165500</td>\n",
       "    </tr>\n",
       "    <tr>\n",
       "      <th>4</th>\n",
       "      <td>2042</td>\n",
       "      <td>903475060</td>\n",
       "      <td>190</td>\n",
       "      <td>RM</td>\n",
       "      <td>60.0</td>\n",
       "      <td>10120</td>\n",
       "      <td>Pave</td>\n",
       "      <td>NaN</td>\n",
       "      <td>IR1</td>\n",
       "      <td>Bnk</td>\n",
       "      <td>...</td>\n",
       "      <td>0</td>\n",
       "      <td>NaN</td>\n",
       "      <td>MnPrv</td>\n",
       "      <td>NaN</td>\n",
       "      <td>0</td>\n",
       "      <td>1</td>\n",
       "      <td>2007</td>\n",
       "      <td>WD</td>\n",
       "      <td>Normal</td>\n",
       "      <td>122000</td>\n",
       "    </tr>\n",
       "  </tbody>\n",
       "</table>\n",
       "<p>5 rows × 82 columns</p>\n",
       "</div>"
      ],
      "text/plain": [
       "   Order        PID  MS SubClass MS Zoning  Lot Frontage  Lot Area Street  \\\n",
       "0    484  528275070           60        RL           NaN      8795   Pave   \n",
       "1   2586  535305120           20        RL          75.0     10170   Pave   \n",
       "2   2289  923228250          160        RM          21.0      2001   Pave   \n",
       "3    142  535152150           20        RL          70.0     10552   Pave   \n",
       "4   2042  903475060          190        RM          60.0     10120   Pave   \n",
       "\n",
       "  Alley Lot Shape Land Contour    ...     Pool Area Pool QC  Fence  \\\n",
       "0   NaN       IR1          Lvl    ...             0     NaN    NaN   \n",
       "1   NaN       Reg          Lvl    ...             0     NaN    NaN   \n",
       "2   NaN       Reg          Lvl    ...             0     NaN    NaN   \n",
       "3   NaN       IR1          Lvl    ...             0     NaN    NaN   \n",
       "4   NaN       IR1          Bnk    ...             0     NaN  MnPrv   \n",
       "\n",
       "  Misc Feature Misc Val Mo Sold Yr Sold Sale Type  Sale Condition  SalePrice  \n",
       "0          NaN        0       4    2009       WD           Normal     236000  \n",
       "1          NaN        0       6    2006       WD           Normal     155000  \n",
       "2          NaN        0       1    2007       WD           Normal      75000  \n",
       "3          NaN        0       4    2010       WD           Normal     165500  \n",
       "4          NaN        0       1    2007       WD           Normal     122000  \n",
       "\n",
       "[5 rows x 82 columns]"
      ]
     },
     "execution_count": 3,
     "metadata": {},
     "output_type": "execute_result"
    }
   ],
   "source": [
    "df = pd.read_csv('house-prices.csv')\n",
    "df.head()"
   ]
  },
  {
   "cell_type": "code",
   "execution_count": 4,
   "metadata": {},
   "outputs": [
    {
     "data": {
      "text/plain": [
       "Lot Frontage       420\n",
       "Alley             2267\n",
       "Mas Vnr Type        20\n",
       "Mas Vnr Area        20\n",
       "Bsmt Qual           71\n",
       "Bsmt Cond           71\n",
       "Bsmt Exposure       74\n",
       "BsmtFin Type 1      71\n",
       "BsmtFin SF 1         1\n",
       "BsmtFin Type 2      72\n",
       "BsmtFin SF 2         1\n",
       "Bsmt Unf SF          1\n",
       "Total Bsmt SF        1\n",
       "Electrical           1\n",
       "Bsmt Full Bath       2\n",
       "Bsmt Half Bath       2\n",
       "Fireplace Qu      1186\n",
       "Garage Type        136\n",
       "Garage Yr Blt      138\n",
       "Garage Finish      138\n",
       "Garage Cars          1\n",
       "Garage Area          1\n",
       "Garage Qual        138\n",
       "Garage Cond        138\n",
       "Pool QC           2418\n",
       "Fence             1941\n",
       "Misc Feature      2340\n",
       "dtype: int64"
      ]
     },
     "execution_count": 4,
     "metadata": {},
     "output_type": "execute_result"
    }
   ],
   "source": [
    "# columns that contain null values\n",
    "a = df.isnull().sum()\n",
    "a[a != 0]"
   ]
  },
  {
   "cell_type": "code",
   "execution_count": 5,
   "metadata": {},
   "outputs": [],
   "source": [
    "# drop two identifiers column from data set, given they are not useful in predicting sale prices\n",
    "df.drop(['Order','PID'], axis=1,inplace=True)\n",
    "# Clean and replace missing values and null values\n",
    "df.drop(['Pool QC','Fence','Misc Feature'],axis=1,inplace=True)\n",
    "# Deal with 'Lot Frontage'\n",
    "df['Lot Frontage'].fillna(value=0,inplace=True)\n",
    "# NA value is associated with no alley, I fill NA with \"No\"\n",
    "df['Alley'].fillna(value='No',inplace=True)\n",
    "# Masonry veneer type and area surface have 20 true missing values, I fill them with forward fill method\n",
    "df['Mas Vnr Type'].fillna(method='ffill',inplace=True)\n",
    "df['Mas Vnr Area'].fillna(method='ffill',inplace=True)\n",
    "# No basement NA value is being replaced with \"No\"\n",
    "df['Bsmt Qual'].fillna(value='No',inplace=True)\n",
    "df['Bsmt Cond'].fillna(value='No',inplace=True)\n",
    "df['Bsmt Exposure'].fillna(value='NA',inplace=True)\n",
    "df['BsmtFin Type 1'].fillna(value='No',inplace=True)\n",
    "df['BsmtFin Type 2'].fillna(value='No',inplace=True)\n",
    "df['Bsmt Full Bath'].fillna(df['Bsmt Full Bath'].median(),inplace=True)\n",
    "df['Bsmt Half Bath'].fillna(df['Bsmt Half Bath'].median(),inplace=True)\n",
    "# fill the rest of basement related value with mean values of the columns.\n",
    "df['BsmtFin SF 1'].fillna(value=df['BsmtFin SF 1'].mean(),inplace=True)\n",
    "df['BsmtFin SF 2'].fillna(value= 0,inplace=True)\n",
    "df['Bsmt Unf SF'].fillna(value=df['Bsmt Unf SF'].mean(),inplace=True)\n",
    "df['Total Bsmt SF'].fillna(value=df['Total Bsmt SF'].mean(),inplace=True)\n",
    "# No fireplace NA values are being replaced with \"No\"\n",
    "df['Fireplace Qu'].fillna(value='No',inplace=True)\n",
    "# Garage missing values\n",
    "df['Garage Type'].fillna(value='No',inplace=True)\n",
    "df['Garage Finish'].fillna(value='No',inplace=True)\n",
    "df['Garage Qual'].fillna(value='No',inplace=True)\n",
    "df['Garage Cond'].fillna(value='No',inplace=True)\n",
    "df['Garage Cars'].fillna(method='ffill',inplace=True)\n",
    "df['Garage Area'].fillna(value=df['Garage Area'].mean(),inplace=True)\n",
    "# Electrical \n",
    "df['Electrical'].fillna(method='ffill',inplace=True)"
   ]
  },
  {
   "cell_type": "markdown",
   "metadata": {},
   "source": [
    "Encode the year value"
   ]
  },
  {
   "cell_type": "code",
   "execution_count": 6,
   "metadata": {},
   "outputs": [],
   "source": [
    "df['Garage Modernity'] = pd.qcut(df['Garage Yr Blt'], q=5).cat.codes\n",
    "df['Year Built Rating'] = pd.qcut(df['Year Built'],q=5).cat.codes\n",
    "df['Year Remod/Add Rating'] = pd.qcut(df['Year Remod/Add'],q=5).cat.codes\n",
    "df['Lot Modernity'] = np.maximum(df['Year Built Rating'],df['Year Remod/Add Rating'])"
   ]
  },
  {
   "cell_type": "code",
   "execution_count": 7,
   "metadata": {},
   "outputs": [
    {
     "data": {
      "text/html": [
       "<div>\n",
       "<style scoped>\n",
       "    .dataframe tbody tr th:only-of-type {\n",
       "        vertical-align: middle;\n",
       "    }\n",
       "\n",
       "    .dataframe tbody tr th {\n",
       "        vertical-align: top;\n",
       "    }\n",
       "\n",
       "    .dataframe thead th {\n",
       "        text-align: right;\n",
       "    }\n",
       "</style>\n",
       "<table border=\"1\" class=\"dataframe\">\n",
       "  <thead>\n",
       "    <tr style=\"text-align: right;\">\n",
       "      <th></th>\n",
       "      <th>MS SubClass</th>\n",
       "      <th>MS Zoning</th>\n",
       "      <th>Lot Frontage</th>\n",
       "      <th>Lot Area</th>\n",
       "      <th>Street</th>\n",
       "      <th>Alley</th>\n",
       "      <th>Lot Shape</th>\n",
       "      <th>Land Contour</th>\n",
       "      <th>Utilities</th>\n",
       "      <th>Lot Config</th>\n",
       "      <th>...</th>\n",
       "      <th>Misc Val</th>\n",
       "      <th>Mo Sold</th>\n",
       "      <th>Yr Sold</th>\n",
       "      <th>Sale Type</th>\n",
       "      <th>Sale Condition</th>\n",
       "      <th>SalePrice</th>\n",
       "      <th>Garage Modernity</th>\n",
       "      <th>Year Built Rating</th>\n",
       "      <th>Year Remod/Add Rating</th>\n",
       "      <th>Lot Modernity</th>\n",
       "    </tr>\n",
       "  </thead>\n",
       "  <tbody>\n",
       "  </tbody>\n",
       "</table>\n",
       "<p>0 rows × 81 columns</p>\n",
       "</div>"
      ],
      "text/plain": [
       "Empty DataFrame\n",
       "Columns: [MS SubClass, MS Zoning, Lot Frontage, Lot Area, Street, Alley, Lot Shape, Land Contour, Utilities, Lot Config, Land Slope, Neighborhood, Condition 1, Condition 2, Bldg Type, House Style, Overall Qual, Overall Cond, Year Built, Year Remod/Add, Roof Style, Roof Matl, Exterior 1st, Exterior 2nd, Mas Vnr Type, Mas Vnr Area, Exter Qual, Exter Cond, Foundation, Bsmt Qual, Bsmt Cond, Bsmt Exposure, BsmtFin Type 1, BsmtFin SF 1, BsmtFin Type 2, BsmtFin SF 2, Bsmt Unf SF, Total Bsmt SF, Heating, Heating QC, Central Air, Electrical, 1st Flr SF, 2nd Flr SF, Low Qual Fin SF, Gr Liv Area, Bsmt Full Bath, Bsmt Half Bath, Full Bath, Half Bath, Bedroom AbvGr, Kitchen AbvGr, Kitchen Qual, TotRms AbvGrd, Functional, Fireplaces, Fireplace Qu, Garage Type, Garage Yr Blt, Garage Finish, Garage Cars, Garage Area, Garage Qual, Garage Cond, Paved Drive, Wood Deck SF, Open Porch SF, Enclosed Porch, 3Ssn Porch, Screen Porch, Pool Area, Misc Val, Mo Sold, Yr Sold, Sale Type, Sale Condition, SalePrice, Garage Modernity, Year Built Rating, Year Remod/Add Rating, Lot Modernity]\n",
       "Index: []\n",
       "\n",
       "[0 rows x 81 columns]"
      ]
     },
     "execution_count": 7,
     "metadata": {},
     "output_type": "execute_result"
    }
   ],
   "source": [
    "# Detecting whether there is duplicated rows \n",
    "df[df.duplicated()]"
   ]
  },
  {
   "cell_type": "code",
   "execution_count": 8,
   "metadata": {},
   "outputs": [
    {
     "data": {
      "text/plain": [
       "<matplotlib.collections.PathCollection at 0x109b51240>"
      ]
     },
     "execution_count": 8,
     "metadata": {},
     "output_type": "execute_result"
    },
    {
     "data": {
      "image/png": "[encoded data removed]",
      "text/plain": [
       "<matplotlib.figure.Figure at 0x1090dccc0>"
      ]
     },
     "metadata": {},
     "output_type": "display_data"
    }
   ],
   "source": [
    "# Detecting outliers\n",
    "x = df['Gr Liv Area'].values\n",
    "y = df['SalePrice'].values\n",
    "plt.scatter(x,y)"
   ]
  },
  {
   "cell_type": "code",
   "execution_count": 9,
   "metadata": {},
   "outputs": [],
   "source": [
    "# Eliminate outliers from data sample\n",
    "idx = x > 5000\n",
    "df = df[~idx]"
   ]
  },
  {
   "cell_type": "code",
   "execution_count": 10,
   "metadata": {},
   "outputs": [],
   "source": [
    "# Add log prices to dataframe\n",
    "df['LogSalePrice'] = np.log10(df['SalePrice'])"
   ]
  },
  {
   "cell_type": "markdown",
   "metadata": {},
   "source": [
    "# Simple Model (two variables)"
   ]
  },
  {
   "cell_type": "markdown",
   "metadata": {},
   "source": [
    "two vairables: total surface (Gr Liv area + Total Bsmt SF), Sale Condition"
   ]
  },
  {
   "cell_type": "code",
   "execution_count": 11,
   "metadata": {},
   "outputs": [
    {
     "data": {
      "text/html": [
       "<div>\n",
       "<style scoped>\n",
       "    .dataframe tbody tr th:only-of-type {\n",
       "        vertical-align: middle;\n",
       "    }\n",
       "\n",
       "    .dataframe tbody tr th {\n",
       "        vertical-align: top;\n",
       "    }\n",
       "\n",
       "    .dataframe thead th {\n",
       "        text-align: right;\n",
       "    }\n",
       "</style>\n",
       "<table border=\"1\" class=\"dataframe\">\n",
       "  <thead>\n",
       "    <tr style=\"text-align: right;\">\n",
       "      <th></th>\n",
       "      <th>Sale Condition</th>\n",
       "      <th>LogSalePrice</th>\n",
       "      <th>Total Surface</th>\n",
       "    </tr>\n",
       "  </thead>\n",
       "  <tbody>\n",
       "    <tr>\n",
       "      <th>0</th>\n",
       "      <td>Normal</td>\n",
       "      <td>5.372912</td>\n",
       "      <td>3208.0</td>\n",
       "    </tr>\n",
       "    <tr>\n",
       "      <th>1</th>\n",
       "      <td>Normal</td>\n",
       "      <td>5.190332</td>\n",
       "      <td>1791.0</td>\n",
       "    </tr>\n",
       "    <tr>\n",
       "      <th>2</th>\n",
       "      <td>Normal</td>\n",
       "      <td>4.875061</td>\n",
       "      <td>1638.0</td>\n",
       "    </tr>\n",
       "    <tr>\n",
       "      <th>3</th>\n",
       "      <td>Normal</td>\n",
       "      <td>5.218798</td>\n",
       "      <td>3098.0</td>\n",
       "    </tr>\n",
       "    <tr>\n",
       "      <th>4</th>\n",
       "      <td>Normal</td>\n",
       "      <td>5.086360</td>\n",
       "      <td>2814.0</td>\n",
       "    </tr>\n",
       "  </tbody>\n",
       "</table>\n",
       "</div>"
      ],
      "text/plain": [
       "  Sale Condition  LogSalePrice  Total Surface\n",
       "0         Normal      5.372912         3208.0\n",
       "1         Normal      5.190332         1791.0\n",
       "2         Normal      4.875061         1638.0\n",
       "3         Normal      5.218798         3098.0\n",
       "4         Normal      5.086360         2814.0"
      ]
     },
     "execution_count": 11,
     "metadata": {},
     "output_type": "execute_result"
    }
   ],
   "source": [
    "df['Total Surface'] = df.loc[:,'Gr Liv Area'] + df.loc[:,'Total Bsmt SF']\n",
    "df_s = df.loc[:,['Sale Condition','LogSalePrice','Total Surface']]\n",
    "df_s.head()"
   ]
  },
  {
   "cell_type": "code",
   "execution_count": 12,
   "metadata": {},
   "outputs": [
    {
     "data": {
      "text/plain": [
       "<matplotlib.collections.PathCollection at 0x1033ed5c0>"
      ]
     },
     "execution_count": 12,
     "metadata": {},
     "output_type": "execute_result"
    },
    {
     "data": {
      "image/png": "[encoded data removed]",
      "text/plain": [
       "<matplotlib.figure.Figure at 0x1090dc630>"
      ]
     },
     "metadata": {},
     "output_type": "display_data"
    }
   ],
   "source": [
    "# Detecting outliers\n",
    "x = df_s['Total Surface'].values\n",
    "y = df_s.LogSalePrice.values\n",
    "plt.scatter(x,y)"
   ]
  },
  {
   "cell_type": "markdown",
   "metadata": {},
   "source": [
    "There seem to be 4 points that are out of swarm distinctively. But I think there is no sufficient argument to eliminate them. small surface house has a very low sale price can be due to many things. very big surface house aren't that expensive can due to the condition of the neighbourhood, the quality, etc."
   ]
  },
  {
   "cell_type": "code",
   "execution_count": 13,
   "metadata": {},
   "outputs": [
    {
     "data": {
      "text/html": [
       "<div>\n",
       "<style scoped>\n",
       "    .dataframe tbody tr th:only-of-type {\n",
       "        vertical-align: middle;\n",
       "    }\n",
       "\n",
       "    .dataframe tbody tr th {\n",
       "        vertical-align: top;\n",
       "    }\n",
       "\n",
       "    .dataframe thead th {\n",
       "        text-align: right;\n",
       "    }\n",
       "</style>\n",
       "<table border=\"1\" class=\"dataframe\">\n",
       "  <thead>\n",
       "    <tr style=\"text-align: right;\">\n",
       "      <th></th>\n",
       "      <th>LogSalePrice</th>\n",
       "      <th>Total Surface</th>\n",
       "      <th>Sale Condition_Abnorml</th>\n",
       "      <th>Sale Condition_AdjLand</th>\n",
       "      <th>Sale Condition_Alloca</th>\n",
       "      <th>Sale Condition_Family</th>\n",
       "      <th>Sale Condition_Normal</th>\n",
       "      <th>Sale Condition_Partial</th>\n",
       "    </tr>\n",
       "  </thead>\n",
       "  <tbody>\n",
       "    <tr>\n",
       "      <th>0</th>\n",
       "      <td>5.372912</td>\n",
       "      <td>3208.0</td>\n",
       "      <td>0</td>\n",
       "      <td>0</td>\n",
       "      <td>0</td>\n",
       "      <td>0</td>\n",
       "      <td>1</td>\n",
       "      <td>0</td>\n",
       "    </tr>\n",
       "    <tr>\n",
       "      <th>1</th>\n",
       "      <td>5.190332</td>\n",
       "      <td>1791.0</td>\n",
       "      <td>0</td>\n",
       "      <td>0</td>\n",
       "      <td>0</td>\n",
       "      <td>0</td>\n",
       "      <td>1</td>\n",
       "      <td>0</td>\n",
       "    </tr>\n",
       "    <tr>\n",
       "      <th>2</th>\n",
       "      <td>4.875061</td>\n",
       "      <td>1638.0</td>\n",
       "      <td>0</td>\n",
       "      <td>0</td>\n",
       "      <td>0</td>\n",
       "      <td>0</td>\n",
       "      <td>1</td>\n",
       "      <td>0</td>\n",
       "    </tr>\n",
       "    <tr>\n",
       "      <th>3</th>\n",
       "      <td>5.218798</td>\n",
       "      <td>3098.0</td>\n",
       "      <td>0</td>\n",
       "      <td>0</td>\n",
       "      <td>0</td>\n",
       "      <td>0</td>\n",
       "      <td>1</td>\n",
       "      <td>0</td>\n",
       "    </tr>\n",
       "    <tr>\n",
       "      <th>4</th>\n",
       "      <td>5.086360</td>\n",
       "      <td>2814.0</td>\n",
       "      <td>0</td>\n",
       "      <td>0</td>\n",
       "      <td>0</td>\n",
       "      <td>0</td>\n",
       "      <td>1</td>\n",
       "      <td>0</td>\n",
       "    </tr>\n",
       "  </tbody>\n",
       "</table>\n",
       "</div>"
      ],
      "text/plain": [
       "   LogSalePrice  Total Surface  Sale Condition_Abnorml  \\\n",
       "0      5.372912         3208.0                       0   \n",
       "1      5.190332         1791.0                       0   \n",
       "2      4.875061         1638.0                       0   \n",
       "3      5.218798         3098.0                       0   \n",
       "4      5.086360         2814.0                       0   \n",
       "\n",
       "   Sale Condition_AdjLand  Sale Condition_Alloca  Sale Condition_Family  \\\n",
       "0                       0                      0                      0   \n",
       "1                       0                      0                      0   \n",
       "2                       0                      0                      0   \n",
       "3                       0                      0                      0   \n",
       "4                       0                      0                      0   \n",
       "\n",
       "   Sale Condition_Normal  Sale Condition_Partial  \n",
       "0                      1                       0  \n",
       "1                      1                       0  \n",
       "2                      1                       0  \n",
       "3                      1                       0  \n",
       "4                      1                       0  "
      ]
     },
     "execution_count": 13,
     "metadata": {},
     "output_type": "execute_result"
    }
   ],
   "source": [
    "# Encoding sale condition\n",
    "pd.get_dummies(df_s,columns=['Sale Condition']).head()"
   ]
  },
  {
   "cell_type": "code",
   "execution_count": 15,
   "metadata": {},
   "outputs": [],
   "source": [
    "from sklearn.model_selection import train_test_split\n",
    "encoded_dfs = pd.get_dummies(df_s,columns=['Sale Condition'])\n",
    "X = encoded_dfs.drop(['LogSalePrice'],axis=1).values\n",
    "y = encoded_dfs.LogSalePrice.values\n",
    "# splitting data \n",
    "X_tr, X_te, y_tr, y_te = train_test_split(X, y, train_size=0.5, test_size=0.5, random_state=0)"
   ]
  },
  {
   "cell_type": "code",
   "execution_count": 17,
   "metadata": {},
   "outputs": [
    {
     "name": "stdout",
     "output_type": "stream",
     "text": [
      "RMSLE for simple model: 0.09921493258752494\n"
     ]
    }
   ],
   "source": [
    "from sklearn.linear_model import LinearRegression\n",
    "lr = LinearRegression()\n",
    "lr.fit(X_tr,y_tr)\n",
    "y_pred = lr.predict(X_te)\n",
    "def RMSLE(y_te,y_pred):\n",
    "    return np.sqrt(np.mean(np.square(y_te - y_pred)))\n",
    "RMSLE_S = RMSLE(y_te,y_pred)\n",
    "print('RMSLE for simple model:', RMSLE_S)"
   ]
  },
  {
   "cell_type": "code",
   "execution_count": 18,
   "metadata": {},
   "outputs": [
    {
     "name": "stdout",
     "output_type": "stream",
     "text": [
      "MAE for simple model in dollars: 28747.86598731449\n"
     ]
    }
   ],
   "source": [
    "def MAE(y_te,y_pred):\n",
    "    return np.mean(np.abs(10**y_te - 10**y_pred))\n",
    "MAE_S = MAE(y_te,y_pred)\n",
    "print('MAE for simple model in dollars:', MAE_S)"
   ]
  },
  {
   "cell_type": "code",
   "execution_count": 19,
   "metadata": {},
   "outputs": [
    {
     "name": "stdout",
     "output_type": "stream",
     "text": [
      "RMSLE for simple model using Huber Loss method: 0.14650512728631024\n",
      "MAE for simple model using Huber Loss method: 30691.071578326788\n"
     ]
    }
   ],
   "source": [
    "# Since data may have outliers, I try Huber regression too\n",
    "from sklearn.linear_model import HuberRegressor\n",
    "lr_huber = HuberRegressor(epsilon=1.4)\n",
    "lr_huber.fit(X_tr,y_tr)\n",
    "y_pred = lr_huber.predict(X_te)\n",
    "RMSLE_S = RMSLE(y_te,y_pred)\n",
    "print('RMSLE for simple model using Huber Loss method:', RMSLE_S)\n",
    "MAE_S = MAE(y_te,y_pred)\n",
    "print('MAE for simple model using Huber Loss method:', MAE_S)"
   ]
  },
  {
   "cell_type": "markdown",
   "metadata": {},
   "source": [
    "Linear regression model using OLS fits better"
   ]
  },
  {
   "cell_type": "markdown",
   "metadata": {},
   "source": [
    "# Intermediate Model"
   ]
  },
  {
   "cell_type": "markdown",
   "metadata": {},
   "source": [
    "16 Independent variables I chose to fit intermediate models: MS SubClass, MS Zoning, Utilities, Lot Config, Overall Qual, Overall Cond, Lot Modernity (combines 'Year Built' and 'Year Remond/Add' variables), Exter Qual, Exter Cond, Total Rooms (total numbers of rooms: Full Bath + Half Bath + TotRms AbvGrd), Bsmt Qual, Bsmt Cond, Garage Qual, Garage Cond, Total Surface, Sale Condition."
   ]
  },
  {
   "cell_type": "code",
   "execution_count": 20,
   "metadata": {},
   "outputs": [
    {
     "data": {
      "text/html": [
       "<div>\n",
       "<style scoped>\n",
       "    .dataframe tbody tr th:only-of-type {\n",
       "        vertical-align: middle;\n",
       "    }\n",
       "\n",
       "    .dataframe tbody tr th {\n",
       "        vertical-align: top;\n",
       "    }\n",
       "\n",
       "    .dataframe thead th {\n",
       "        text-align: right;\n",
       "    }\n",
       "</style>\n",
       "<table border=\"1\" class=\"dataframe\">\n",
       "  <thead>\n",
       "    <tr style=\"text-align: right;\">\n",
       "      <th></th>\n",
       "      <th>MS SubClass</th>\n",
       "      <th>MS Zoning</th>\n",
       "      <th>Utilities</th>\n",
       "      <th>Lot Config</th>\n",
       "      <th>Overall Qual</th>\n",
       "      <th>Overall Cond</th>\n",
       "      <th>Lot Modernity</th>\n",
       "      <th>Exter Qual</th>\n",
       "      <th>Exter Cond</th>\n",
       "      <th>Total Rooms</th>\n",
       "      <th>Bsmt Qual</th>\n",
       "      <th>Bsmt Cond</th>\n",
       "      <th>Garage Qual</th>\n",
       "      <th>Garage Cond</th>\n",
       "      <th>Total Surface</th>\n",
       "      <th>Sale Condition</th>\n",
       "      <th>LogSalePrice</th>\n",
       "    </tr>\n",
       "  </thead>\n",
       "  <tbody>\n",
       "    <tr>\n",
       "      <th>0</th>\n",
       "      <td>60</td>\n",
       "      <td>RL</td>\n",
       "      <td>AllPub</td>\n",
       "      <td>Inside</td>\n",
       "      <td>7</td>\n",
       "      <td>5</td>\n",
       "      <td>3</td>\n",
       "      <td>Gd</td>\n",
       "      <td>TA</td>\n",
       "      <td>11</td>\n",
       "      <td>Gd</td>\n",
       "      <td>TA</td>\n",
       "      <td>TA</td>\n",
       "      <td>TA</td>\n",
       "      <td>3208.0</td>\n",
       "      <td>Normal</td>\n",
       "      <td>5.372912</td>\n",
       "    </tr>\n",
       "    <tr>\n",
       "      <th>1</th>\n",
       "      <td>20</td>\n",
       "      <td>RL</td>\n",
       "      <td>AllPub</td>\n",
       "      <td>Corner</td>\n",
       "      <td>6</td>\n",
       "      <td>6</td>\n",
       "      <td>1</td>\n",
       "      <td>TA</td>\n",
       "      <td>TA</td>\n",
       "      <td>7</td>\n",
       "      <td>TA</td>\n",
       "      <td>TA</td>\n",
       "      <td>TA</td>\n",
       "      <td>TA</td>\n",
       "      <td>1791.0</td>\n",
       "      <td>Normal</td>\n",
       "      <td>5.190332</td>\n",
       "    </tr>\n",
       "    <tr>\n",
       "      <th>2</th>\n",
       "      <td>160</td>\n",
       "      <td>RM</td>\n",
       "      <td>AllPub</td>\n",
       "      <td>Inside</td>\n",
       "      <td>4</td>\n",
       "      <td>5</td>\n",
       "      <td>2</td>\n",
       "      <td>TA</td>\n",
       "      <td>TA</td>\n",
       "      <td>8</td>\n",
       "      <td>TA</td>\n",
       "      <td>TA</td>\n",
       "      <td>TA</td>\n",
       "      <td>TA</td>\n",
       "      <td>1638.0</td>\n",
       "      <td>Normal</td>\n",
       "      <td>4.875061</td>\n",
       "    </tr>\n",
       "    <tr>\n",
       "      <th>3</th>\n",
       "      <td>20</td>\n",
       "      <td>RL</td>\n",
       "      <td>AllPub</td>\n",
       "      <td>Inside</td>\n",
       "      <td>5</td>\n",
       "      <td>5</td>\n",
       "      <td>1</td>\n",
       "      <td>TA</td>\n",
       "      <td>TA</td>\n",
       "      <td>8</td>\n",
       "      <td>TA</td>\n",
       "      <td>TA</td>\n",
       "      <td>TA</td>\n",
       "      <td>TA</td>\n",
       "      <td>3098.0</td>\n",
       "      <td>Normal</td>\n",
       "      <td>5.218798</td>\n",
       "    </tr>\n",
       "    <tr>\n",
       "      <th>4</th>\n",
       "      <td>190</td>\n",
       "      <td>RM</td>\n",
       "      <td>AllPub</td>\n",
       "      <td>Inside</td>\n",
       "      <td>7</td>\n",
       "      <td>4</td>\n",
       "      <td>0</td>\n",
       "      <td>Fa</td>\n",
       "      <td>TA</td>\n",
       "      <td>11</td>\n",
       "      <td>TA</td>\n",
       "      <td>TA</td>\n",
       "      <td>TA</td>\n",
       "      <td>TA</td>\n",
       "      <td>2814.0</td>\n",
       "      <td>Normal</td>\n",
       "      <td>5.086360</td>\n",
       "    </tr>\n",
       "  </tbody>\n",
       "</table>\n",
       "</div>"
      ],
      "text/plain": [
       "   MS SubClass MS Zoning Utilities Lot Config  Overall Qual  Overall Cond  \\\n",
       "0           60        RL    AllPub     Inside             7             5   \n",
       "1           20        RL    AllPub     Corner             6             6   \n",
       "2          160        RM    AllPub     Inside             4             5   \n",
       "3           20        RL    AllPub     Inside             5             5   \n",
       "4          190        RM    AllPub     Inside             7             4   \n",
       "\n",
       "   Lot Modernity Exter Qual Exter Cond  Total Rooms Bsmt Qual Bsmt Cond  \\\n",
       "0              3         Gd         TA           11        Gd        TA   \n",
       "1              1         TA         TA            7        TA        TA   \n",
       "2              2         TA         TA            8        TA        TA   \n",
       "3              1         TA         TA            8        TA        TA   \n",
       "4              0         Fa         TA           11        TA        TA   \n",
       "\n",
       "  Garage Qual Garage Cond  Total Surface Sale Condition  LogSalePrice  \n",
       "0          TA          TA         3208.0         Normal      5.372912  \n",
       "1          TA          TA         1791.0         Normal      5.190332  \n",
       "2          TA          TA         1638.0         Normal      4.875061  \n",
       "3          TA          TA         3098.0         Normal      5.218798  \n",
       "4          TA          TA         2814.0         Normal      5.086360  "
      ]
     },
     "execution_count": 20,
     "metadata": {},
     "output_type": "execute_result"
    }
   ],
   "source": [
    "# Lot Morderntiy is engineered before \n",
    "# Product variable 'Total Rooms'\n",
    "df['Total Rooms'] = df.loc[:,'Full Bath'] + df.loc[:,'Half Bath'] + df.loc[:,'TotRms AbvGrd']\n",
    "df_int = df.loc[:,['MS SubClass','MS Zoning','Utilities','Lot Config','Overall Qual','Overall Cond','Lot Modernity',\n",
    "                   'Exter Qual','Exter Cond','Total Rooms','Bsmt Qual','Bsmt Cond','Garage Qual','Garage Cond','Total Surface',\n",
    "                   'Sale Condition','LogSalePrice']]\n",
    "df_int.head()"
   ]
  },
  {
   "cell_type": "code",
   "execution_count": 21,
   "metadata": {},
   "outputs": [
    {
     "data": {
      "text/plain": [
       "(2428, 17)"
      ]
     },
     "execution_count": 21,
     "metadata": {},
     "output_type": "execute_result"
    }
   ],
   "source": [
    "df_int.shape"
   ]
  },
  {
   "cell_type": "code",
   "execution_count": 22,
   "metadata": {},
   "outputs": [
    {
     "data": {
      "text/html": [
       "<div>\n",
       "<style scoped>\n",
       "    .dataframe tbody tr th:only-of-type {\n",
       "        vertical-align: middle;\n",
       "    }\n",
       "\n",
       "    .dataframe tbody tr th {\n",
       "        vertical-align: top;\n",
       "    }\n",
       "\n",
       "    .dataframe thead th {\n",
       "        text-align: right;\n",
       "    }\n",
       "</style>\n",
       "<table border=\"1\" class=\"dataframe\">\n",
       "  <thead>\n",
       "    <tr style=\"text-align: right;\">\n",
       "      <th></th>\n",
       "      <th>Overall Qual</th>\n",
       "      <th>Overall Cond</th>\n",
       "      <th>Lot Modernity</th>\n",
       "      <th>Exter Qual</th>\n",
       "      <th>Exter Cond</th>\n",
       "      <th>Total Rooms</th>\n",
       "      <th>Bsmt Qual</th>\n",
       "      <th>Bsmt Cond</th>\n",
       "      <th>Garage Qual</th>\n",
       "      <th>Garage Cond</th>\n",
       "      <th>...</th>\n",
       "      <th>MS Zoning_RL</th>\n",
       "      <th>MS Zoning_RM</th>\n",
       "      <th>Utilities_AllPub</th>\n",
       "      <th>Utilities_NoSeWa</th>\n",
       "      <th>Utilities_NoSewr</th>\n",
       "      <th>Lot Config_Corner</th>\n",
       "      <th>Lot Config_CulDSac</th>\n",
       "      <th>Lot Config_FR2</th>\n",
       "      <th>Lot Config_FR3</th>\n",
       "      <th>Lot Config_Inside</th>\n",
       "    </tr>\n",
       "  </thead>\n",
       "  <tbody>\n",
       "    <tr>\n",
       "      <th>0</th>\n",
       "      <td>7</td>\n",
       "      <td>5</td>\n",
       "      <td>3</td>\n",
       "      <td>4</td>\n",
       "      <td>3</td>\n",
       "      <td>11</td>\n",
       "      <td>4</td>\n",
       "      <td>3</td>\n",
       "      <td>3</td>\n",
       "      <td>3</td>\n",
       "      <td>...</td>\n",
       "      <td>1</td>\n",
       "      <td>0</td>\n",
       "      <td>1</td>\n",
       "      <td>0</td>\n",
       "      <td>0</td>\n",
       "      <td>0</td>\n",
       "      <td>0</td>\n",
       "      <td>0</td>\n",
       "      <td>0</td>\n",
       "      <td>1</td>\n",
       "    </tr>\n",
       "    <tr>\n",
       "      <th>1</th>\n",
       "      <td>6</td>\n",
       "      <td>6</td>\n",
       "      <td>1</td>\n",
       "      <td>3</td>\n",
       "      <td>3</td>\n",
       "      <td>7</td>\n",
       "      <td>3</td>\n",
       "      <td>3</td>\n",
       "      <td>3</td>\n",
       "      <td>3</td>\n",
       "      <td>...</td>\n",
       "      <td>1</td>\n",
       "      <td>0</td>\n",
       "      <td>1</td>\n",
       "      <td>0</td>\n",
       "      <td>0</td>\n",
       "      <td>1</td>\n",
       "      <td>0</td>\n",
       "      <td>0</td>\n",
       "      <td>0</td>\n",
       "      <td>0</td>\n",
       "    </tr>\n",
       "    <tr>\n",
       "      <th>2</th>\n",
       "      <td>4</td>\n",
       "      <td>5</td>\n",
       "      <td>2</td>\n",
       "      <td>3</td>\n",
       "      <td>3</td>\n",
       "      <td>8</td>\n",
       "      <td>3</td>\n",
       "      <td>3</td>\n",
       "      <td>3</td>\n",
       "      <td>3</td>\n",
       "      <td>...</td>\n",
       "      <td>0</td>\n",
       "      <td>1</td>\n",
       "      <td>1</td>\n",
       "      <td>0</td>\n",
       "      <td>0</td>\n",
       "      <td>0</td>\n",
       "      <td>0</td>\n",
       "      <td>0</td>\n",
       "      <td>0</td>\n",
       "      <td>1</td>\n",
       "    </tr>\n",
       "    <tr>\n",
       "      <th>3</th>\n",
       "      <td>5</td>\n",
       "      <td>5</td>\n",
       "      <td>1</td>\n",
       "      <td>3</td>\n",
       "      <td>3</td>\n",
       "      <td>8</td>\n",
       "      <td>3</td>\n",
       "      <td>3</td>\n",
       "      <td>3</td>\n",
       "      <td>3</td>\n",
       "      <td>...</td>\n",
       "      <td>1</td>\n",
       "      <td>0</td>\n",
       "      <td>1</td>\n",
       "      <td>0</td>\n",
       "      <td>0</td>\n",
       "      <td>0</td>\n",
       "      <td>0</td>\n",
       "      <td>0</td>\n",
       "      <td>0</td>\n",
       "      <td>1</td>\n",
       "    </tr>\n",
       "    <tr>\n",
       "      <th>4</th>\n",
       "      <td>7</td>\n",
       "      <td>4</td>\n",
       "      <td>0</td>\n",
       "      <td>2</td>\n",
       "      <td>3</td>\n",
       "      <td>11</td>\n",
       "      <td>3</td>\n",
       "      <td>3</td>\n",
       "      <td>3</td>\n",
       "      <td>3</td>\n",
       "      <td>...</td>\n",
       "      <td>0</td>\n",
       "      <td>1</td>\n",
       "      <td>1</td>\n",
       "      <td>0</td>\n",
       "      <td>0</td>\n",
       "      <td>0</td>\n",
       "      <td>0</td>\n",
       "      <td>0</td>\n",
       "      <td>0</td>\n",
       "      <td>1</td>\n",
       "    </tr>\n",
       "  </tbody>\n",
       "</table>\n",
       "<p>5 rows × 49 columns</p>\n",
       "</div>"
      ],
      "text/plain": [
       "   Overall Qual  Overall Cond  Lot Modernity  Exter Qual  Exter Cond  \\\n",
       "0             7             5              3           4           3   \n",
       "1             6             6              1           3           3   \n",
       "2             4             5              2           3           3   \n",
       "3             5             5              1           3           3   \n",
       "4             7             4              0           2           3   \n",
       "\n",
       "   Total Rooms  Bsmt Qual  Bsmt Cond  Garage Qual  Garage Cond  \\\n",
       "0           11          4          3            3            3   \n",
       "1            7          3          3            3            3   \n",
       "2            8          3          3            3            3   \n",
       "3            8          3          3            3            3   \n",
       "4           11          3          3            3            3   \n",
       "\n",
       "         ...          MS Zoning_RL  MS Zoning_RM  Utilities_AllPub  \\\n",
       "0        ...                     1             0                 1   \n",
       "1        ...                     1             0                 1   \n",
       "2        ...                     0             1                 1   \n",
       "3        ...                     1             0                 1   \n",
       "4        ...                     0             1                 1   \n",
       "\n",
       "   Utilities_NoSeWa  Utilities_NoSewr  Lot Config_Corner  Lot Config_CulDSac  \\\n",
       "0                 0                 0                  0                   0   \n",
       "1                 0                 0                  1                   0   \n",
       "2                 0                 0                  0                   0   \n",
       "3                 0                 0                  0                   0   \n",
       "4                 0                 0                  0                   0   \n",
       "\n",
       "   Lot Config_FR2  Lot Config_FR3  Lot Config_Inside  \n",
       "0               0               0                  1  \n",
       "1               0               0                  0  \n",
       "2               0               0                  1  \n",
       "3               0               0                  1  \n",
       "4               0               0                  1  \n",
       "\n",
       "[5 rows x 49 columns]"
      ]
     },
     "execution_count": 22,
     "metadata": {},
     "output_type": "execute_result"
    }
   ],
   "source": [
    "# Encode Nominal variables\n",
    "df_int_en = pd.get_dummies(df_int,columns=['Sale Condition','MS SubClass','MS Zoning','Utilities','Lot Config'])\n",
    "# Encode Ordinal Variables\n",
    "df_int_en['Exter Qual'].replace({'Po': 1, 'Fa': 2, 'TA': 3, 'Gd': 4, 'Ex': 5},inplace=True)\n",
    "df_int_en['Exter Cond'].replace({'Po': 1, 'Fa': 2, 'TA': 3, 'Gd': 4, 'Ex': 5},inplace=True)\n",
    "df_int_en['Bsmt Qual'].replace({'No':0 ,'Po': 1, 'Fa': 2, 'TA': 3, 'Gd': 4, 'Ex': 5},inplace=True)\n",
    "df_int_en['Bsmt Cond'].replace({'No':0 ,'Po': 1, 'Fa': 2, 'TA': 3, 'Gd': 4, 'Ex': 5},inplace=True)\n",
    "df_int_en['Garage Qual'].replace({'No':0 ,'Po': 1, 'Fa': 2, 'TA': 3, 'Gd': 4, 'Ex': 5},inplace=True)\n",
    "df_int_en['Garage Cond'].replace({'No':0 ,'Po': 1, 'Fa': 2, 'TA': 3, 'Gd': 4, 'Ex': 5},inplace=True)\n",
    "df_int_en.head()"
   ]
  },
  {
   "cell_type": "code",
   "execution_count": 23,
   "metadata": {},
   "outputs": [],
   "source": [
    "X = df_int_en.drop(['LogSalePrice'],axis=1).values\n",
    "y = df_int_en.LogSalePrice.values\n",
    "# splitting data \n",
    "X_tr, X_te, y_tr, y_te = train_test_split(X, y, train_size=0.5, test_size=0.5, random_state=0)"
   ]
  },
  {
   "cell_type": "code",
   "execution_count": 24,
   "metadata": {},
   "outputs": [
    {
     "name": "stdout",
     "output_type": "stream",
     "text": [
      "RMSLE for intermediate model: 0.06344436637315971\n",
      "MAE for intermediate model in dollars: 17239.213693660684\n"
     ]
    }
   ],
   "source": [
    "lr = LinearRegression()\n",
    "lr.fit(X_tr,y_tr)\n",
    "y_pred = lr.predict(X_te)\n",
    "RMSLE_int = RMSLE(y_te,y_pred)\n",
    "print('RMSLE for intermediate model:', RMSLE_int)\n",
    "MAE_int = MAE(y_te,y_pred)\n",
    "print('MAE for intermediate model in dollars:', MAE_int)"
   ]
  },
  {
   "cell_type": "code",
   "execution_count": 27,
   "metadata": {},
   "outputs": [
    {
     "name": "stderr",
     "output_type": "stream",
     "text": [
      "/anaconda3/lib/python3.6/site-packages/scipy/linalg/basic.py:40: RuntimeWarning: scipy.linalg.solve\n",
      "Ill-conditioned matrix detected. Result is not guaranteed to be accurate.\n",
      "Reciprocal condition number/precision: 1.3238817243509967e-22 / 1.1102230246251565e-16\n",
      "  RuntimeWarning)\n",
      "/anaconda3/lib/python3.6/site-packages/scipy/linalg/basic.py:40: RuntimeWarning: scipy.linalg.solve\n",
      "Ill-conditioned matrix detected. Result is not guaranteed to be accurate.\n",
      "Reciprocal condition number/precision: 4.247046058976461e-22 / 1.1102230246251565e-16\n",
      "  RuntimeWarning)\n",
      "/anaconda3/lib/python3.6/site-packages/scipy/linalg/basic.py:40: RuntimeWarning: scipy.linalg.solve\n",
      "Ill-conditioned matrix detected. Result is not guaranteed to be accurate.\n",
      "Reciprocal condition number/precision: 8.951611609421776e-22 / 1.1102230246251565e-16\n",
      "  RuntimeWarning)\n",
      "/anaconda3/lib/python3.6/site-packages/scipy/linalg/basic.py:40: RuntimeWarning: scipy.linalg.solve\n",
      "Ill-conditioned matrix detected. Result is not guaranteed to be accurate.\n",
      "Reciprocal condition number/precision: 1.635604859486541e-21 / 1.1102230246251565e-16\n",
      "  RuntimeWarning)\n",
      "/anaconda3/lib/python3.6/site-packages/scipy/linalg/basic.py:40: RuntimeWarning: scipy.linalg.solve\n",
      "Ill-conditioned matrix detected. Result is not guaranteed to be accurate.\n",
      "Reciprocal condition number/precision: 2.8594761956051913e-21 / 1.1102230246251565e-16\n",
      "  RuntimeWarning)\n",
      "/anaconda3/lib/python3.6/site-packages/scipy/linalg/basic.py:40: RuntimeWarning: scipy.linalg.solve\n",
      "Ill-conditioned matrix detected. Result is not guaranteed to be accurate.\n",
      "Reciprocal condition number/precision: 4.7529249287902425e-21 / 1.1102230246251565e-16\n",
      "  RuntimeWarning)\n",
      "/anaconda3/lib/python3.6/site-packages/scipy/linalg/basic.py:40: RuntimeWarning: scipy.linalg.solve\n",
      "Ill-conditioned matrix detected. Result is not guaranteed to be accurate.\n",
      "Reciprocal condition number/precision: 7.840496319498966e-21 / 1.1102230246251565e-16\n",
      "  RuntimeWarning)\n",
      "/anaconda3/lib/python3.6/site-packages/scipy/linalg/basic.py:40: RuntimeWarning: scipy.linalg.solve\n",
      "Ill-conditioned matrix detected. Result is not guaranteed to be accurate.\n",
      "Reciprocal condition number/precision: 1.2692997289387289e-20 / 1.1102230246251565e-16\n",
      "  RuntimeWarning)\n",
      "/anaconda3/lib/python3.6/site-packages/scipy/linalg/basic.py:40: RuntimeWarning: scipy.linalg.solve\n",
      "Ill-conditioned matrix detected. Result is not guaranteed to be accurate.\n",
      "Reciprocal condition number/precision: 2.0513685401246517e-20 / 1.1102230246251565e-16\n",
      "  RuntimeWarning)\n",
      "/anaconda3/lib/python3.6/site-packages/scipy/linalg/basic.py:40: RuntimeWarning: scipy.linalg.solve\n",
      "Ill-conditioned matrix detected. Result is not guaranteed to be accurate.\n",
      "Reciprocal condition number/precision: 3.291988493807603e-20 / 1.1102230246251565e-16\n",
      "  RuntimeWarning)\n",
      "/anaconda3/lib/python3.6/site-packages/scipy/linalg/basic.py:40: RuntimeWarning: scipy.linalg.solve\n",
      "Ill-conditioned matrix detected. Result is not guaranteed to be accurate.\n",
      "Reciprocal condition number/precision: 5.266569402830526e-20 / 1.1102230246251565e-16\n",
      "  RuntimeWarning)\n",
      "/anaconda3/lib/python3.6/site-packages/scipy/linalg/basic.py:40: RuntimeWarning: scipy.linalg.solve\n",
      "Ill-conditioned matrix detected. Result is not guaranteed to be accurate.\n",
      "Reciprocal condition number/precision: 8.410617554806832e-20 / 1.1102230246251565e-16\n",
      "  RuntimeWarning)\n",
      "/anaconda3/lib/python3.6/site-packages/scipy/linalg/basic.py:40: RuntimeWarning: scipy.linalg.solve\n",
      "Ill-conditioned matrix detected. Result is not guaranteed to be accurate.\n",
      "Reciprocal condition number/precision: 1.3411233232937105e-19 / 1.1102230246251565e-16\n",
      "  RuntimeWarning)\n"
     ]
    }
   ],
   "source": [
    "# Define a set of alpha values\n",
    "alphas = np.logspace(-30, -10, num=100)\n",
    "from sklearn.metrics import mean_squared_error as mse\n",
    "from sklearn.linear_model import Ridge\n",
    "train_scores = []\n",
    "test_scores = []\n",
    "for alpha in alphas:\n",
    "    # Create and fit ridge regression\n",
    "    ridge = Ridge(alpha=alpha)\n",
    "    ridge.fit(X_tr, y_tr)\n",
    "\n",
    "    # Performance on train set\n",
    "    y_pred = ridge.predict(X_tr)\n",
    "    train_mse = mse(y_tr, y_pred)\n",
    "    train_scores.append(train_mse)\n",
    "\n",
    "    # Performance on test set\n",
    "    y_pred = ridge.predict(X_te)\n",
    "    test_mse = mse(y_te, y_pred)\n",
    "    test_scores.append(test_mse)"
   ]
  },
  {
   "cell_type": "code",
   "execution_count": 28,
   "metadata": {},
   "outputs": [
    {
     "data": {
      "image/png": "[encoded data removed]",
      "text/plain": [
       "<matplotlib.figure.Figure at 0x1a14088be0>"
      ]
     },
     "metadata": {},
     "output_type": "display_data"
    }
   ],
   "source": [
    "# Plot the validation curves\n",
    "plt.semilogx(alphas, train_scores, label='train curve')\n",
    "plt.semilogx(alphas, test_scores, label='test curve')\n",
    "plt.legend()\n",
    "plt.show()"
   ]
  },
  {
   "cell_type": "code",
   "execution_count": 29,
   "metadata": {},
   "outputs": [
    {
     "name": "stdout",
     "output_type": "stream",
     "text": [
      "Best alpha value 1.0e-10 with score 0.00\n"
     ]
    }
   ],
   "source": [
    "idx = np.argmin(test_scores)\n",
    "best_alpha = alphas[idx]\n",
    "best_score = test_scores[idx]\n",
    "\n",
    "print('Best alpha value {:.1e} with score {:.2f}'.format(\n",
    "    best_alpha, best_score))"
   ]
  },
  {
   "cell_type": "markdown",
   "metadata": {},
   "source": [
    "The regularization strength is very low, which means the original model is not overfitting. "
   ]
  },
  {
   "cell_type": "code",
   "execution_count": 36,
   "metadata": {},
   "outputs": [
    {
     "name": "stdout",
     "output_type": "stream",
     "text": [
      "MAE after regularization: 17239.317347190685\n"
     ]
    },
    {
     "name": "stderr",
     "output_type": "stream",
     "text": [
      "/anaconda3/lib/python3.6/site-packages/scipy/linalg/basic.py:40: RuntimeWarning: scipy.linalg.solve\n",
      "Ill-conditioned matrix detected. Result is not guaranteed to be accurate.\n",
      "Reciprocal condition number/precision: 1.3411233232937105e-19 / 1.1102230246251565e-16\n",
      "  RuntimeWarning)\n"
     ]
    }
   ],
   "source": [
    "ridge = Ridge(alpha=10**-10)\n",
    "ridge.fit(X_tr,y_tr)\n",
    "y_pred = ridge.predict(X_te)\n",
    "MAE_int_ridge = MAE(y_te,y_pred)\n",
    "print('MAE after regularization:',MAE_int_ridge)"
   ]
  },
  {
   "cell_type": "markdown",
   "metadata": {},
   "source": [
    "MAE is almost the same without regularization"
   ]
  },
  {
   "cell_type": "markdown",
   "metadata": {},
   "source": [
    "# Complex Model"
   ]
  },
  {
   "cell_type": "code",
   "execution_count": 37,
   "metadata": {},
   "outputs": [],
   "source": [
    "# Drop the variables that have been used to combine into another variable\n",
    "df.drop(['Year Built','Year Remod/Add','Full Bath','Half Bath','TotRms AbvGrd','SalePrice','Garage Yr Blt','Gr Liv Area','Total Bsmt SF'],axis=1,inplace=True)\n",
    "# Drop the variables that are either irrelavant or its pair variable has too many missing values I have to drop this feature\n",
    "df.drop(['Misc Val','Mo Sold','Yr Sold','Year Built Rating','Year Remod/Add Rating'],axis=1,inplace=True)"
   ]
  },
  {
   "cell_type": "markdown",
   "metadata": {},
   "source": [
    "I work with 69 independent variables in complex model. "
   ]
  },
  {
   "cell_type": "code",
   "execution_count": 39,
   "metadata": {},
   "outputs": [
    {
     "name": "stdout",
     "output_type": "stream",
     "text": [
      "<class 'pandas.core.frame.DataFrame'>\n",
      "Int64Index: 2428 entries, 0 to 2429\n",
      "Data columns (total 70 columns):\n",
      "MS SubClass         2428 non-null int64\n",
      "MS Zoning           2428 non-null object\n",
      "Lot Frontage        2428 non-null float64\n",
      "Lot Area            2428 non-null int64\n",
      "Street              2428 non-null object\n",
      "Alley               2428 non-null object\n",
      "Lot Shape           2428 non-null object\n",
      "Land Contour        2428 non-null object\n",
      "Utilities           2428 non-null object\n",
      "Lot Config          2428 non-null object\n",
      "Land Slope          2428 non-null object\n",
      "Neighborhood        2428 non-null object\n",
      "Condition 1         2428 non-null object\n",
      "Condition 2         2428 non-null object\n",
      "Bldg Type           2428 non-null object\n",
      "House Style         2428 non-null object\n",
      "Overall Qual        2428 non-null int64\n",
      "Overall Cond        2428 non-null int64\n",
      "Roof Style          2428 non-null object\n",
      "Roof Matl           2428 non-null object\n",
      "Exterior 1st        2428 non-null object\n",
      "Exterior 2nd        2428 non-null object\n",
      "Mas Vnr Type        2428 non-null object\n",
      "Mas Vnr Area        2428 non-null float64\n",
      "Exter Qual          2428 non-null object\n",
      "Exter Cond          2428 non-null object\n",
      "Foundation          2428 non-null object\n",
      "Bsmt Qual           2428 non-null object\n",
      "Bsmt Cond           2428 non-null object\n",
      "Bsmt Exposure       2428 non-null object\n",
      "BsmtFin Type 1      2428 non-null object\n",
      "BsmtFin SF 1        2428 non-null float64\n",
      "BsmtFin Type 2      2428 non-null object\n",
      "BsmtFin SF 2        2428 non-null float64\n",
      "Bsmt Unf SF         2428 non-null float64\n",
      "Heating             2428 non-null object\n",
      "Heating QC          2428 non-null object\n",
      "Central Air         2428 non-null object\n",
      "Electrical          2428 non-null object\n",
      "1st Flr SF          2428 non-null int64\n",
      "2nd Flr SF          2428 non-null int64\n",
      "Low Qual Fin SF     2428 non-null int64\n",
      "Bsmt Full Bath      2428 non-null float64\n",
      "Bsmt Half Bath      2428 non-null float64\n",
      "Bedroom AbvGr       2428 non-null int64\n",
      "Kitchen AbvGr       2428 non-null int64\n",
      "Kitchen Qual        2428 non-null object\n",
      "Functional          2428 non-null object\n",
      "Fireplaces          2428 non-null int64\n",
      "Fireplace Qu        2428 non-null object\n",
      "Garage Type         2428 non-null object\n",
      "Garage Finish       2428 non-null object\n",
      "Garage Cars         2428 non-null float64\n",
      "Garage Area         2428 non-null float64\n",
      "Garage Qual         2428 non-null object\n",
      "Garage Cond         2428 non-null object\n",
      "Paved Drive         2428 non-null object\n",
      "Wood Deck SF        2428 non-null int64\n",
      "Open Porch SF       2428 non-null int64\n",
      "Enclosed Porch      2428 non-null int64\n",
      "3Ssn Porch          2428 non-null int64\n",
      "Screen Porch        2428 non-null int64\n",
      "Pool Area           2428 non-null int64\n",
      "Sale Type           2428 non-null object\n",
      "Sale Condition      2428 non-null object\n",
      "Garage Modernity    2428 non-null int8\n",
      "Lot Modernity       2428 non-null int8\n",
      "LogSalePrice        2428 non-null float64\n",
      "Total Surface       2428 non-null float64\n",
      "Total Rooms         2428 non-null int64\n",
      "dtypes: float64(11), int64(17), int8(2), object(40)\n",
      "memory usage: 1.3+ MB\n"
     ]
    }
   ],
   "source": [
    "df.info()"
   ]
  },
  {
   "cell_type": "code",
   "execution_count": 40,
   "metadata": {},
   "outputs": [],
   "source": [
    "# Encoding the nominal variables\n",
    "df_complex = pd.get_dummies(df,columns=['Sale Condition','MS SubClass','MS Zoning','Lot Config',\n",
    "                                       'Street','Alley','Land Contour','Neighborhood','Condition 1','Condition 2',\n",
    "                                       'Bldg Type','House Style','Roof Style','Roof Matl','Exterior 1st','Exterior 2nd',\n",
    "                                       'Mas Vnr Type','Foundation','Heating','Central Air','Garage Type','Sale Type'])\n",
    "# Encoding the Ordinal Variables\n",
    "df_complex['Lot Shape'].replace({'IR3': 1, 'IR2': 2, 'IR1': 3, 'Reg': 4},inplace=True)\n",
    "df_complex['Utilities'].replace({'ELO': 1, 'NoSeWa': 2, 'NoSewr': 3, 'AllPub': 4},inplace=True)\n",
    "df_complex['Land Slope'].replace({'Sev': 1, 'Mod': 2, 'Gtl': 3},inplace=True)\n",
    "df_complex['Exter Qual'].replace({'Po': 1, 'Fa': 2, 'TA': 3, 'Gd': 4, 'Ex': 5},inplace=True)\n",
    "df_complex['Exter Cond'].replace({'Po': 1, 'Fa': 2, 'TA': 3, 'Gd': 4, 'Ex': 5},inplace=True)\n",
    "df_complex['Bsmt Qual'].replace({'No':0 ,'Po': 1, 'Fa': 2, 'TA': 3, 'Gd': 4, 'Ex': 5},inplace=True)\n",
    "df_complex['Bsmt Cond'].replace({'No':0 ,'Po': 1, 'Fa': 2, 'TA': 3, 'Gd': 4, 'Ex': 5},inplace=True)\n",
    "df_complex['Bsmt Exposure'].replace({'NA':0 ,'No': 0, 'Mn': 1, 'Av': 2, 'Gd': 3},inplace=True)\n",
    "df_complex['BsmtFin Type 1'].replace({'No':0 ,'Unf': 1, 'LwQ': 2, 'Rec': 3, 'BLQ': 4, 'ALQ': 5,'GLQ':6},inplace=True)\n",
    "df_complex['BsmtFin Type 2'].replace({'No':0 ,'Unf': 1, 'LwQ': 2, 'Rec': 3, 'BLQ': 4, 'ALQ': 5,'GLQ':6},inplace=True)\n",
    "df_complex['Electrical'].replace({'Mix':0,'FuseP': 1, 'FuseF': 2, 'FuseA': 3, 'SBrkr': 4},inplace=True)\n",
    "df_complex['Heating QC'].replace({'Po': 1, 'Fa': 2, 'TA': 3, 'Gd': 4, 'Ex': 5},inplace=True)\n",
    "df_complex['Kitchen Qual'].replace({'Po': 1, 'Fa': 2, 'TA': 3, 'Gd': 4, 'Ex': 5},inplace=True)\n",
    "df_complex['Functional'].replace({'Sal':0 ,'Sev': 1, 'Maj2': 2, 'Maj1': 3, 'Mod': 4, 'Min2': 5,'Min1':6,'Typ':7},inplace=True)\n",
    "df_complex['Fireplace Qu'].replace({'No':0 ,'Po': 1, 'Fa': 2, 'TA': 3, 'Gd': 4, 'Ex': 5},inplace=True)\n",
    "df_complex['Garage Finish'].replace({'No': 0, 'Unf': 1, 'RFn': 2, 'Fin': 3},inplace=True)\n",
    "df_complex['Garage Qual'].replace({'No':0 ,'Po': 1, 'Fa': 2, 'TA': 3, 'Gd': 4, 'Ex': 5},inplace=True)\n",
    "df_complex['Garage Cond'].replace({'No':0 ,'Po': 1, 'Fa': 2, 'TA': 3, 'Gd': 4, 'Ex': 5},inplace=True)\n",
    "df_complex['Paved Drive'].replace({'N':0,'P':1,'Y':2},inplace=True)"
   ]
  },
  {
   "cell_type": "code",
   "execution_count": 41,
   "metadata": {},
   "outputs": [
    {
     "data": {
      "text/html": [
       "<div>\n",
       "<style scoped>\n",
       "    .dataframe tbody tr th:only-of-type {\n",
       "        vertical-align: middle;\n",
       "    }\n",
       "\n",
       "    .dataframe tbody tr th {\n",
       "        vertical-align: top;\n",
       "    }\n",
       "\n",
       "    .dataframe thead th {\n",
       "        text-align: right;\n",
       "    }\n",
       "</style>\n",
       "<table border=\"1\" class=\"dataframe\">\n",
       "  <thead>\n",
       "    <tr style=\"text-align: right;\">\n",
       "      <th></th>\n",
       "      <th>Lot Frontage</th>\n",
       "      <th>Lot Area</th>\n",
       "      <th>Lot Shape</th>\n",
       "      <th>Utilities</th>\n",
       "      <th>Land Slope</th>\n",
       "      <th>Overall Qual</th>\n",
       "      <th>Overall Cond</th>\n",
       "      <th>Mas Vnr Area</th>\n",
       "      <th>Exter Qual</th>\n",
       "      <th>Exter Cond</th>\n",
       "      <th>...</th>\n",
       "      <th>Sale Type_COD</th>\n",
       "      <th>Sale Type_CWD</th>\n",
       "      <th>Sale Type_Con</th>\n",
       "      <th>Sale Type_ConLD</th>\n",
       "      <th>Sale Type_ConLI</th>\n",
       "      <th>Sale Type_ConLw</th>\n",
       "      <th>Sale Type_New</th>\n",
       "      <th>Sale Type_Oth</th>\n",
       "      <th>Sale Type_VWD</th>\n",
       "      <th>Sale Type_WD</th>\n",
       "    </tr>\n",
       "  </thead>\n",
       "  <tbody>\n",
       "    <tr>\n",
       "      <th>0</th>\n",
       "      <td>0.0</td>\n",
       "      <td>8795</td>\n",
       "      <td>3</td>\n",
       "      <td>4</td>\n",
       "      <td>3</td>\n",
       "      <td>7</td>\n",
       "      <td>5</td>\n",
       "      <td>0.0</td>\n",
       "      <td>4</td>\n",
       "      <td>3</td>\n",
       "      <td>...</td>\n",
       "      <td>0</td>\n",
       "      <td>0</td>\n",
       "      <td>0</td>\n",
       "      <td>0</td>\n",
       "      <td>0</td>\n",
       "      <td>0</td>\n",
       "      <td>0</td>\n",
       "      <td>0</td>\n",
       "      <td>0</td>\n",
       "      <td>1</td>\n",
       "    </tr>\n",
       "    <tr>\n",
       "      <th>1</th>\n",
       "      <td>75.0</td>\n",
       "      <td>10170</td>\n",
       "      <td>4</td>\n",
       "      <td>4</td>\n",
       "      <td>3</td>\n",
       "      <td>6</td>\n",
       "      <td>6</td>\n",
       "      <td>522.0</td>\n",
       "      <td>3</td>\n",
       "      <td>3</td>\n",
       "      <td>...</td>\n",
       "      <td>0</td>\n",
       "      <td>0</td>\n",
       "      <td>0</td>\n",
       "      <td>0</td>\n",
       "      <td>0</td>\n",
       "      <td>0</td>\n",
       "      <td>0</td>\n",
       "      <td>0</td>\n",
       "      <td>0</td>\n",
       "      <td>1</td>\n",
       "    </tr>\n",
       "    <tr>\n",
       "      <th>2</th>\n",
       "      <td>21.0</td>\n",
       "      <td>2001</td>\n",
       "      <td>4</td>\n",
       "      <td>4</td>\n",
       "      <td>3</td>\n",
       "      <td>4</td>\n",
       "      <td>5</td>\n",
       "      <td>80.0</td>\n",
       "      <td>3</td>\n",
       "      <td>3</td>\n",
       "      <td>...</td>\n",
       "      <td>0</td>\n",
       "      <td>0</td>\n",
       "      <td>0</td>\n",
       "      <td>0</td>\n",
       "      <td>0</td>\n",
       "      <td>0</td>\n",
       "      <td>0</td>\n",
       "      <td>0</td>\n",
       "      <td>0</td>\n",
       "      <td>1</td>\n",
       "    </tr>\n",
       "    <tr>\n",
       "      <th>3</th>\n",
       "      <td>70.0</td>\n",
       "      <td>10552</td>\n",
       "      <td>3</td>\n",
       "      <td>4</td>\n",
       "      <td>3</td>\n",
       "      <td>5</td>\n",
       "      <td>5</td>\n",
       "      <td>0.0</td>\n",
       "      <td>3</td>\n",
       "      <td>3</td>\n",
       "      <td>...</td>\n",
       "      <td>0</td>\n",
       "      <td>0</td>\n",
       "      <td>0</td>\n",
       "      <td>0</td>\n",
       "      <td>0</td>\n",
       "      <td>0</td>\n",
       "      <td>0</td>\n",
       "      <td>0</td>\n",
       "      <td>0</td>\n",
       "      <td>1</td>\n",
       "    </tr>\n",
       "    <tr>\n",
       "      <th>4</th>\n",
       "      <td>60.0</td>\n",
       "      <td>10120</td>\n",
       "      <td>3</td>\n",
       "      <td>4</td>\n",
       "      <td>3</td>\n",
       "      <td>7</td>\n",
       "      <td>4</td>\n",
       "      <td>0.0</td>\n",
       "      <td>2</td>\n",
       "      <td>3</td>\n",
       "      <td>...</td>\n",
       "      <td>0</td>\n",
       "      <td>0</td>\n",
       "      <td>0</td>\n",
       "      <td>0</td>\n",
       "      <td>0</td>\n",
       "      <td>0</td>\n",
       "      <td>0</td>\n",
       "      <td>0</td>\n",
       "      <td>0</td>\n",
       "      <td>1</td>\n",
       "    </tr>\n",
       "  </tbody>\n",
       "</table>\n",
       "<p>5 rows × 229 columns</p>\n",
       "</div>"
      ],
      "text/plain": [
       "   Lot Frontage  Lot Area  Lot Shape  Utilities  Land Slope  Overall Qual  \\\n",
       "0           0.0      8795          3          4           3             7   \n",
       "1          75.0     10170          4          4           3             6   \n",
       "2          21.0      2001          4          4           3             4   \n",
       "3          70.0     10552          3          4           3             5   \n",
       "4          60.0     10120          3          4           3             7   \n",
       "\n",
       "   Overall Cond  Mas Vnr Area  Exter Qual  Exter Cond      ...        \\\n",
       "0             5           0.0           4           3      ...         \n",
       "1             6         522.0           3           3      ...         \n",
       "2             5          80.0           3           3      ...         \n",
       "3             5           0.0           3           3      ...         \n",
       "4             4           0.0           2           3      ...         \n",
       "\n",
       "   Sale Type_COD  Sale Type_CWD  Sale Type_Con  Sale Type_ConLD  \\\n",
       "0              0              0              0                0   \n",
       "1              0              0              0                0   \n",
       "2              0              0              0                0   \n",
       "3              0              0              0                0   \n",
       "4              0              0              0                0   \n",
       "\n",
       "   Sale Type_ConLI  Sale Type_ConLw  Sale Type_New  Sale Type_Oth  \\\n",
       "0                0                0              0              0   \n",
       "1                0                0              0              0   \n",
       "2                0                0              0              0   \n",
       "3                0                0              0              0   \n",
       "4                0                0              0              0   \n",
       "\n",
       "   Sale Type_VWD  Sale Type_WD   \n",
       "0              0              1  \n",
       "1              0              1  \n",
       "2              0              1  \n",
       "3              0              1  \n",
       "4              0              1  \n",
       "\n",
       "[5 rows x 229 columns]"
      ]
     },
     "execution_count": 41,
     "metadata": {},
     "output_type": "execute_result"
    }
   ],
   "source": [
    "df_complex.head()"
   ]
  },
  {
   "cell_type": "code",
   "execution_count": 42,
   "metadata": {},
   "outputs": [],
   "source": [
    "X = df_complex.drop(['LogSalePrice'],axis=1).values\n",
    "y = df_complex.LogSalePrice.values\n",
    "# splitting data \n",
    "X_tr, X_te, y_tr, y_te = train_test_split(X, y, train_size=0.5, test_size=0.5, random_state=0)"
   ]
  },
  {
   "cell_type": "code",
   "execution_count": 43,
   "metadata": {},
   "outputs": [
    {
     "name": "stdout",
     "output_type": "stream",
     "text": [
      "RMSLE for complex model: 0.058136856285078135\n",
      "MAE for complex model in dollars: 13549.070931536933\n"
     ]
    }
   ],
   "source": [
    "lr = LinearRegression()\n",
    "lr.fit(X_tr,y_tr)\n",
    "y_pred = lr.predict(X_te)\n",
    "RMSLE_complex = RMSLE(y_te,y_pred)\n",
    "print('RMSLE for complex model:', RMSLE_complex)\n",
    "MAE_complex = MAE(y_te,y_pred)\n",
    "print('MAE for complex model in dollars:', MAE_complex)"
   ]
  },
  {
   "cell_type": "markdown",
   "metadata": {},
   "source": [
    "# Model Comparison"
   ]
  },
  {
   "cell_type": "code",
   "execution_count": 44,
   "metadata": {},
   "outputs": [],
   "source": [
    "# Baseline Model\n",
    "from sklearn.dummy import DummyRegressor\n",
    "dummy = DummyRegressor(strategy='median')\n",
    "dummy.fit(X_tr,y_tr)\n",
    "y_pred = dummy.predict(X_te)\n",
    "MAE_base = MAE(y_te,y_pred)"
   ]
  },
  {
   "cell_type": "code",
   "execution_count": 45,
   "metadata": {},
   "outputs": [
    {
     "data": {
      "image/png": "[encoded data removed]",
      "text/plain": [
       "<matplotlib.figure.Figure at 0x1a140cae80>"
      ]
     },
     "metadata": {},
     "output_type": "display_data"
    }
   ],
   "source": [
    "# Plot MAE value for different models\n",
    "plt.bar([1,2,3,4],[MAE_base,MAE_S,MAE_int,MAE_complex])\n",
    "plt.xticks([1,2,3,4],['Baseline','Simple','Intermediate','Complex'])\n",
    "plt.title('Mean Absolute Error for Four different Models')\n",
    "plt.show()"
   ]
  },
  {
   "cell_type": "markdown",
   "metadata": {},
   "source": [
    "# Prediction"
   ]
  },
  {
   "cell_type": "code",
   "execution_count": 46,
   "metadata": {},
   "outputs": [],
   "source": [
    "df_te = pd.read_csv('house-prices-test.csv')\n",
    "df_p = df_te.drop(['Order','PID'],axis=1)"
   ]
  },
  {
   "cell_type": "code",
   "execution_count": 47,
   "metadata": {},
   "outputs": [
    {
     "data": {
      "text/plain": [
       "Lot Frontage       70\n",
       "Alley             465\n",
       "Mas Vnr Type        3\n",
       "Mas Vnr Area        3\n",
       "Bsmt Qual           9\n",
       "Bsmt Cond           9\n",
       "Bsmt Exposure       9\n",
       "BsmtFin Type 1      9\n",
       "BsmtFin Type 2      9\n",
       "Fireplace Qu      236\n",
       "Garage Type        21\n",
       "Garage Yr Blt      21\n",
       "Garage Finish      21\n",
       "Garage Qual        21\n",
       "Garage Cond        21\n",
       "Pool QC           499\n",
       "Fence             417\n",
       "Misc Feature      484\n",
       "dtype: int64"
      ]
     },
     "execution_count": 47,
     "metadata": {},
     "output_type": "execute_result"
    }
   ],
   "source": [
    "b = df_p.isnull().sum()\n",
    "b[b != 0]"
   ]
  },
  {
   "cell_type": "markdown",
   "metadata": {},
   "source": [
    "Deal with missing value"
   ]
  },
  {
   "cell_type": "code",
   "execution_count": 48,
   "metadata": {},
   "outputs": [],
   "source": [
    "# Deal with 'Lot Frontage'\n",
    "df_p['Lot Frontage'].fillna(value=0,inplace=True)\n",
    "# NA value is associated with no alley, I fill NA with \"No\"\n",
    "df_p['Alley'].fillna(value='No',inplace=True)\n",
    "# Masonry veneer type and area surface have 20 true missing values, I fill them with forward fill method\n",
    "df_p['Mas Vnr Type'].fillna(method='ffill',inplace=True)\n",
    "df_p['Mas Vnr Area'].fillna(method='ffill',inplace=True)\n",
    "# No basement NA value is being replaced with \"No\"\n",
    "df_p['Bsmt Qual'].fillna(value='No',inplace=True)\n",
    "df_p['Bsmt Cond'].fillna(value='No',inplace=True)\n",
    "df_p['Bsmt Exposure'].fillna(value='No',inplace=True)\n",
    "df_p['BsmtFin Type 1'].fillna(value='No',inplace=True)\n",
    "df_p['BsmtFin Type 2'].fillna(value='No',inplace=True)\n",
    "# No fireplace NA values are being replaced with \"No\"\n",
    "df_p['Fireplace Qu'].fillna(value='No',inplace=True)\n",
    "# Garage missing values\n",
    "df_p['Garage Type'].fillna(value='No',inplace=True)\n",
    "df_p['Garage Finish'].fillna(value='No',inplace=True)\n",
    "df_p['Garage Qual'].fillna(value='No',inplace=True)\n",
    "df_p['Garage Cond'].fillna(value='No',inplace=True)"
   ]
  },
  {
   "cell_type": "markdown",
   "metadata": {},
   "source": [
    "Encode the year value"
   ]
  },
  {
   "cell_type": "code",
   "execution_count": 49,
   "metadata": {},
   "outputs": [],
   "source": [
    "df_p['Garage Modernity'] = pd.qcut(df_p['Garage Yr Blt'], q=5).cat.codes\n",
    "df_p['Year Built Rating'] = pd.qcut(df_p['Year Built'],q=5).cat.codes\n",
    "df_p['Year Remod/Add Rating'] = pd.qcut(df_p['Year Remod/Add'],q=5).cat.codes\n",
    "df_p['Lot Modernity'] = np.maximum(df_p['Year Built Rating'],df_p['Year Remod/Add Rating'])"
   ]
  },
  {
   "cell_type": "markdown",
   "metadata": {},
   "source": [
    "Create Variables"
   ]
  },
  {
   "cell_type": "code",
   "execution_count": 50,
   "metadata": {},
   "outputs": [],
   "source": [
    "df_p['Total Rooms'] = df_p.loc[:,'Full Bath'] + df_p.loc[:,'Half Bath'] + df_p.loc[:,'TotRms AbvGrd']\n",
    "df_p['Total Surface'] = df_p.loc[:,'Gr Liv Area'] + df_p.loc[:,'Total Bsmt SF']"
   ]
  },
  {
   "cell_type": "code",
   "execution_count": 51,
   "metadata": {},
   "outputs": [
    {
     "data": {
      "text/html": [
       "<div>\n",
       "<style scoped>\n",
       "    .dataframe tbody tr th:only-of-type {\n",
       "        vertical-align: middle;\n",
       "    }\n",
       "\n",
       "    .dataframe tbody tr th {\n",
       "        vertical-align: top;\n",
       "    }\n",
       "\n",
       "    .dataframe thead th {\n",
       "        text-align: right;\n",
       "    }\n",
       "</style>\n",
       "<table border=\"1\" class=\"dataframe\">\n",
       "  <thead>\n",
       "    <tr style=\"text-align: right;\">\n",
       "      <th></th>\n",
       "      <th>MS SubClass</th>\n",
       "      <th>MS Zoning</th>\n",
       "      <th>Lot Frontage</th>\n",
       "      <th>Lot Area</th>\n",
       "      <th>Street</th>\n",
       "      <th>Alley</th>\n",
       "      <th>Lot Shape</th>\n",
       "      <th>Land Contour</th>\n",
       "      <th>Utilities</th>\n",
       "      <th>Lot Config</th>\n",
       "      <th>...</th>\n",
       "      <th>Mo Sold</th>\n",
       "      <th>Yr Sold</th>\n",
       "      <th>Sale Type</th>\n",
       "      <th>Sale Condition</th>\n",
       "      <th>Garage Modernity</th>\n",
       "      <th>Year Built Rating</th>\n",
       "      <th>Year Remod/Add Rating</th>\n",
       "      <th>Lot Modernity</th>\n",
       "      <th>Total Rooms</th>\n",
       "      <th>Total Surface</th>\n",
       "    </tr>\n",
       "  </thead>\n",
       "  <tbody>\n",
       "  </tbody>\n",
       "</table>\n",
       "<p>0 rows × 85 columns</p>\n",
       "</div>"
      ],
      "text/plain": [
       "Empty DataFrame\n",
       "Columns: [MS SubClass, MS Zoning, Lot Frontage, Lot Area, Street, Alley, Lot Shape, Land Contour, Utilities, Lot Config, Land Slope, Neighborhood, Condition 1, Condition 2, Bldg Type, House Style, Overall Qual, Overall Cond, Year Built, Year Remod/Add, Roof Style, Roof Matl, Exterior 1st, Exterior 2nd, Mas Vnr Type, Mas Vnr Area, Exter Qual, Exter Cond, Foundation, Bsmt Qual, Bsmt Cond, Bsmt Exposure, BsmtFin Type 1, BsmtFin SF 1, BsmtFin Type 2, BsmtFin SF 2, Bsmt Unf SF, Total Bsmt SF, Heating, Heating QC, Central Air, Electrical, 1st Flr SF, 2nd Flr SF, Low Qual Fin SF, Gr Liv Area, Bsmt Full Bath, Bsmt Half Bath, Full Bath, Half Bath, Bedroom AbvGr, Kitchen AbvGr, Kitchen Qual, TotRms AbvGrd, Functional, Fireplaces, Fireplace Qu, Garage Type, Garage Yr Blt, Garage Finish, Garage Cars, Garage Area, Garage Qual, Garage Cond, Paved Drive, Wood Deck SF, Open Porch SF, Enclosed Porch, 3Ssn Porch, Screen Porch, Pool Area, Pool QC, Fence, Misc Feature, Misc Val, Mo Sold, Yr Sold, Sale Type, Sale Condition, Garage Modernity, Year Built Rating, Year Remod/Add Rating, Lot Modernity, Total Rooms, Total Surface]\n",
       "Index: []\n",
       "\n",
       "[0 rows x 85 columns]"
      ]
     },
     "execution_count": 51,
     "metadata": {},
     "output_type": "execute_result"
    }
   ],
   "source": [
    "# Detecting whether there is duplicated rows \n",
    "df_p[df_p.duplicated()]"
   ]
  },
  {
   "cell_type": "code",
   "execution_count": 52,
   "metadata": {},
   "outputs": [],
   "source": [
    "# Drop the variables that have been used to combine into another variable\n",
    "df_p.drop(['Year Built','Year Remod/Add','Full Bath','Half Bath','TotRms AbvGrd','Garage Yr Blt','Gr Liv Area','Total Bsmt SF'],axis=1,inplace=True)\n",
    "# Drop the variables that are either irrelavant or its pair variable has too many missing values I have to drop this feature\n",
    "df_p.drop(['Misc Val','Mo Sold','Yr Sold','Year Built Rating','Year Remod/Add Rating','Pool QC','Fence','Misc Feature'],axis=1,inplace=True)"
   ]
  },
  {
   "cell_type": "code",
   "execution_count": 53,
   "metadata": {},
   "outputs": [
    {
     "data": {
      "text/plain": [
       "(500, 69)"
      ]
     },
     "execution_count": 53,
     "metadata": {},
     "output_type": "execute_result"
    }
   ],
   "source": [
    "df_p.shape"
   ]
  },
  {
   "cell_type": "markdown",
   "metadata": {},
   "source": [
    "The test data now have the same number of independent variables as the train data right now."
   ]
  },
  {
   "cell_type": "code",
   "execution_count": 54,
   "metadata": {},
   "outputs": [],
   "source": [
    "# Encoding the nominal variables\n",
    "df_p = pd.get_dummies(df_p,columns=['Sale Condition','MS SubClass','MS Zoning','Lot Config',\n",
    "                                       'Street','Alley','Land Contour','Neighborhood','Condition 1','Condition 2',\n",
    "                                       'Bldg Type','House Style','Roof Style','Roof Matl','Exterior 1st','Exterior 2nd',\n",
    "                                       'Mas Vnr Type','Foundation','Heating','Central Air','Garage Type','Sale Type'])\n",
    "# Encoding the Ordinal Variables\n",
    "df_p['Lot Shape'].replace({'IR3': 1, 'IR2': 2, 'IR1': 3, 'Reg': 4},inplace=True)\n",
    "df_p['Utilities'].replace({'ELO': 1, 'NoSeWa': 2, 'NoSewr': 3, 'AllPub': 4},inplace=True)\n",
    "df_p['Land Slope'].replace({'Sev': 1, 'Mod': 2, 'Gtl': 3},inplace=True)\n",
    "df_p['Exter Qual'].replace({'Po': 1, 'Fa': 2, 'TA': 3, 'Gd': 4, 'Ex': 5},inplace=True)\n",
    "df_p['Exter Cond'].replace({'Po': 1, 'Fa': 2, 'TA': 3, 'Gd': 4, 'Ex': 5},inplace=True)\n",
    "df_p['Bsmt Qual'].replace({'No':0 ,'Po': 1, 'Fa': 2, 'TA': 3, 'Gd': 4, 'Ex': 5},inplace=True)\n",
    "df_p['Bsmt Cond'].replace({'No':0 ,'Po': 1, 'Fa': 2, 'TA': 3, 'Gd': 4, 'Ex': 5},inplace=True)\n",
    "df_p['Bsmt Exposure'].replace({'NA':0 ,'No': 0, 'Mn': 1, 'Av': 2, 'Gd': 3},inplace=True)\n",
    "df_p['BsmtFin Type 1'].replace({'No':0 ,'Unf': 1, 'LwQ': 2, 'Rec': 3, 'BLQ': 4, 'ALQ': 5,'GLQ':6},inplace=True)\n",
    "df_p['BsmtFin Type 2'].replace({'No':0 ,'Unf': 1, 'LwQ': 2, 'Rec': 3, 'BLQ': 4, 'ALQ': 5,'GLQ':6},inplace=True)\n",
    "df_p['Electrical'].replace({'Mix':0,'FuseP': 1, 'FuseF': 2, 'FuseA': 3, 'SBrkr': 4},inplace=True)\n",
    "df_p['Heating QC'].replace({'Po': 1, 'Fa': 2, 'TA': 3, 'Gd': 4, 'Ex': 5},inplace=True)\n",
    "df_p['Kitchen Qual'].replace({'Po': 1, 'Fa': 2, 'TA': 3, 'Gd': 4, 'Ex': 5},inplace=True)\n",
    "df_p['Functional'].replace({'Sal':0 ,'Sev': 1, 'Maj2': 2, 'Maj1': 3, 'Mod': 4, 'Min2': 5,'Min1':6,'Typ':7},inplace=True)\n",
    "df_p['Fireplace Qu'].replace({'No':0 ,'Po': 1, 'Fa': 2, 'TA': 3, 'Gd': 4, 'Ex': 5},inplace=True)\n",
    "df_p['Garage Finish'].replace({'No': 0, 'Unf': 1, 'RFn': 2, 'Fin': 3},inplace=True)\n",
    "df_p['Garage Qual'].replace({'No':0 ,'Po': 1, 'Fa': 2, 'TA': 3, 'Gd': 4, 'Ex': 5},inplace=True)\n",
    "df_p['Garage Cond'].replace({'No':0 ,'Po': 1, 'Fa': 2, 'TA': 3, 'Gd': 4, 'Ex': 5},inplace=True)\n",
    "df_p['Paved Drive'].replace({'N':0,'P':1,'Y':2},inplace=True)"
   ]
  },
  {
   "cell_type": "code",
   "execution_count": 55,
   "metadata": {},
   "outputs": [
    {
     "data": {
      "text/plain": [
       "(500, 202)"
      ]
     },
     "execution_count": 55,
     "metadata": {},
     "output_type": "execute_result"
    }
   ],
   "source": [
    "df_p.shape"
   ]
  },
  {
   "cell_type": "markdown",
   "metadata": {},
   "source": [
    "Encoded test set data doesn't have the same column indexes as the train set do, the number of column in train set is 228"
   ]
  },
  {
   "cell_type": "code",
   "execution_count": 57,
   "metadata": {},
   "outputs": [],
   "source": [
    "df_complex1 = df_complex.drop(['LogSalePrice'],axis=1)\n",
    "df_p_reindexed = df_p.reindex(columns=df_complex1.columns)"
   ]
  },
  {
   "cell_type": "code",
   "execution_count": 58,
   "metadata": {},
   "outputs": [
    {
     "data": {
      "text/plain": [
       "MS SubClass_150         500\n",
       "MS Zoning_A (agr)       500\n",
       "MS Zoning_I (all)       500\n",
       "Neighborhood_Greens     500\n",
       "Neighborhood_GrnHill    500\n",
       "Neighborhood_Landmrk    500\n",
       "Condition 2_Artery      500\n",
       "Condition 2_PosA        500\n",
       "Condition 2_RRAe        500\n",
       "Condition 2_RRAn        500\n",
       "Condition 2_RRNn        500\n",
       "Roof Style_Shed         500\n",
       "Roof Matl_Membran       500\n",
       "Roof Matl_Metal         500\n",
       "Roof Matl_WdShngl       500\n",
       "Exterior 1st_AsphShn    500\n",
       "Exterior 1st_BrkComm    500\n",
       "Exterior 1st_CBlock     500\n",
       "Exterior 1st_ImStucc    500\n",
       "Exterior 1st_PreCast    500\n",
       "Exterior 1st_Stone      500\n",
       "Exterior 2nd_AsphShn    500\n",
       "Exterior 2nd_PreCast    500\n",
       "Mas Vnr Type_CBlock     500\n",
       "Foundation_Wood         500\n",
       "Heating_Floor           500\n",
       "Sale Type_Con           500\n",
       "Sale Type_VWD           500\n",
       "dtype: int64"
      ]
     },
     "execution_count": 58,
     "metadata": {},
     "output_type": "execute_result"
    }
   ],
   "source": [
    "c = df_p_reindexed.isnull().sum()\n",
    "c[c != 0]"
   ]
  },
  {
   "cell_type": "markdown",
   "metadata": {},
   "source": [
    "Above encoded dummies belong to the train set, not test set. The reindex method created null values in those columns. Since it's a feature that isn't in test set, it makes sense to fill them with 0, marking this feature non-existent in test set."
   ]
  },
  {
   "cell_type": "code",
   "execution_count": 59,
   "metadata": {},
   "outputs": [],
   "source": [
    "df_p_reindexed.fillna(value=0,inplace=True)"
   ]
  },
  {
   "cell_type": "code",
   "execution_count": 60,
   "metadata": {},
   "outputs": [],
   "source": [
    "y_pred = lr.predict(df_p_reindexed)\n",
    "predictions = 10**y_pred\n",
    "PID = df_te.PID"
   ]
  },
  {
   "cell_type": "code",
   "execution_count": 61,
   "metadata": {},
   "outputs": [
    {
     "data": {
      "text/html": [
       "<div>\n",
       "<style scoped>\n",
       "    .dataframe tbody tr th:only-of-type {\n",
       "        vertical-align: middle;\n",
       "    }\n",
       "\n",
       "    .dataframe tbody tr th {\n",
       "        vertical-align: top;\n",
       "    }\n",
       "\n",
       "    .dataframe thead th {\n",
       "        text-align: right;\n",
       "    }\n",
       "</style>\n",
       "<table border=\"1\" class=\"dataframe\">\n",
       "  <thead>\n",
       "    <tr style=\"text-align: right;\">\n",
       "      <th></th>\n",
       "      <th>PID</th>\n",
       "      <th>SalePrice</th>\n",
       "    </tr>\n",
       "  </thead>\n",
       "  <tbody>\n",
       "    <tr>\n",
       "      <th>0</th>\n",
       "      <td>909279080</td>\n",
       "      <td>218375.219734</td>\n",
       "    </tr>\n",
       "    <tr>\n",
       "      <th>1</th>\n",
       "      <td>907126050</td>\n",
       "      <td>152764.127572</td>\n",
       "    </tr>\n",
       "    <tr>\n",
       "      <th>2</th>\n",
       "      <td>528144030</td>\n",
       "      <td>288798.775405</td>\n",
       "    </tr>\n",
       "    <tr>\n",
       "      <th>3</th>\n",
       "      <td>535452060</td>\n",
       "      <td>125647.894344</td>\n",
       "    </tr>\n",
       "    <tr>\n",
       "      <th>4</th>\n",
       "      <td>911202100</td>\n",
       "      <td>89657.918994</td>\n",
       "    </tr>\n",
       "  </tbody>\n",
       "</table>\n",
       "</div>"
      ],
      "text/plain": [
       "         PID      SalePrice\n",
       "0  909279080  218375.219734\n",
       "1  907126050  152764.127572\n",
       "2  528144030  288798.775405\n",
       "3  535452060  125647.894344\n",
       "4  911202100   89657.918994"
      ]
     },
     "execution_count": 61,
     "metadata": {},
     "output_type": "execute_result"
    }
   ],
   "source": [
    "predictions_df = pd.DataFrame({ 'PID' : PID, 'SalePrice': predictions})\n",
    "predictions_df.head()"
   ]
  },
  {
   "cell_type": "markdown",
   "metadata": {},
   "source": [
    "Verify distributions of predicted prices"
   ]
  },
  {
   "cell_type": "code",
   "execution_count": 62,
   "metadata": {},
   "outputs": [
    {
     "data": {
      "text/plain": [
       "count       500.000000\n",
       "mean     184729.902917\n",
       "std       89612.754945\n",
       "min       37614.854625\n",
       "25%      130511.784102\n",
       "50%      161597.247515\n",
       "75%      214959.913960\n",
       "max      963749.602155\n",
       "Name: SalePrice, dtype: float64"
      ]
     },
     "execution_count": 62,
     "metadata": {},
     "output_type": "execute_result"
    }
   ],
   "source": [
    "predictions_df.SalePrice.describe()"
   ]
  },
  {
   "cell_type": "code",
   "execution_count": 63,
   "metadata": {},
   "outputs": [
    {
     "data": {
      "text/plain": [
       "count      2430.000000\n",
       "mean     180199.692593\n",
       "std       79607.467171\n",
       "min       12789.000000\n",
       "25%      129000.000000\n",
       "50%      160000.000000\n",
       "75%      213099.750000\n",
       "max      755000.000000\n",
       "Name: SalePrice, dtype: float64"
      ]
     },
     "execution_count": 63,
     "metadata": {},
     "output_type": "execute_result"
    }
   ],
   "source": [
    "input_df = pd.read_csv('house-prices.csv')\n",
    "input_df.SalePrice.describe()"
   ]
  },
  {
   "cell_type": "code",
   "execution_count": 64,
   "metadata": {},
   "outputs": [],
   "source": [
    "# Save Data\n",
    "predictions_df.to_csv('house-prices-pred.csv', index=False, float_format='%.0f')"
   ]
  },
  {
   "cell_type": "code",
   "execution_count": null,
   "metadata": {},
   "outputs": [],
   "source": []
  }
 ],
 "metadata": {
  "kernelspec": {
   "display_name": "Python 3",
   "language": "python",
   "name": "python3"
  },
  "language_info": {
   "codemirror_mode": {
    "name": "ipython",
    "version": 3
   },
   "file_extension": ".py",
   "mimetype": "text/x-python",
   "name": "python",
   "nbconvert_exporter": "python",
   "pygments_lexer": "ipython3",
   "version": "3.6.4"
  }
 },
 "nbformat": 4,
 "nbformat_minor": 2
}
